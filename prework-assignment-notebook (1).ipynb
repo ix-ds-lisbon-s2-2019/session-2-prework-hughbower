{
 "cells": [
  {
   "cell_type": "markdown",
   "metadata": {},
   "source": [
    "# Prework Assignment"
   ]
  },
  {
   "cell_type": "markdown",
   "metadata": {},
   "source": [
    "### General Background Questions"
   ]
  },
  {
   "cell_type": "markdown",
   "metadata": {},
   "source": [
    "1. Why is version control important in science?"
   ]
  },
  {
   "cell_type": "code",
   "execution_count": 1,
   "metadata": {},
   "outputs": [],
   "source": [
    "# Version control better equips individual researchers and facilitates group collaboration. For the individual, version control, more specifically Git, offers a place for researchers to pick up where others have left off, check for errors and find innovative solutions. For the group project, Git makes the meshing of individual contributions more seamless. \n"
   ]
  },
  {
   "cell_type": "markdown",
   "metadata": {},
   "source": [
    "2. What kind of research artifacts can we track with Git?"
   ]
  },
  {
   "cell_type": "code",
   "execution_count": 1,
   "metadata": {},
   "outputs": [],
   "source": [
    "# Git can track manuscripts, notes, datasets, and statistical code and figures. "
   ]
  },
  {
   "cell_type": "markdown",
   "metadata": {},
   "source": [
    "3. What are the three main things that can go wrong in a data science project?"
   ]
  },
  {
   "cell_type": "code",
   "execution_count": 1,
   "metadata": {},
   "outputs": [],
   "source": [
    "# Either the data isn’t what you wanted, the model doesn’t work well, or you were solving the wrong problem. \n"
   ]
  },
  {
   "cell_type": "markdown",
   "metadata": {},
   "source": [
    "### Python Background Questions"
   ]
  },
  {
   "cell_type": "markdown",
   "metadata": {},
   "source": [
    "These short exercises are a way to familiarize yourself with python. If you find these exercises too difficult, don’t worry! We will review the basics the first day to make sure we are all comfortable coding in Python.\n",
    "\n",
    "Please save your work in this document and `git push` them to the `prework-assignment` repo.\n",
    "\n",
    "----------------------------------------------------------------"
   ]
  },
  {
   "cell_type": "markdown",
   "metadata": {},
   "source": [
    "### Problem 1: Basic Operations"
   ]
  },
  {
   "cell_type": "markdown",
   "metadata": {},
   "source": [
    "You are at Vanessa's Vegan Cafe and you loved it so much you wanna leave a tip. Write a function that takes the amount owed and calculates how much money you pay with an 18% tip. If functions still scare you, just the solution code will do."
   ]
  },
  {
   "cell_type": "code",
   "execution_count": 2,
   "metadata": {},
   "outputs": [
    {
     "name": "stdout",
     "output_type": "stream",
     "text": [
      "enter the cost of the food: 2\n",
      "2.36 is the total of the meal\n"
     ]
    }
   ],
   "source": [
    "amountOwed=float(input('enter the cost of the food: '))\n",
    "Total=amountOwed *1.18\n",
    "print(str(round(Total,2)) + ' is the total of the meal')\n"
   ]
  },
  {
   "cell_type": "markdown",
   "metadata": {},
   "source": [
    "----------------------------------------------------------------"
   ]
  },
  {
   "cell_type": "markdown",
   "metadata": {},
   "source": [
    "### Problem 2: Lists"
   ]
  },
  {
   "cell_type": "markdown",
   "metadata": {},
   "source": [
    "I have a fortune cookie that says my lucky numbers are:\n",
    "\n",
    "       [23, 54, 6, 8, 10078, 3]\n",
    "\n",
    "Write a function that returns 3 lists (if functions still scare you, just the solution code will do)\n",
    "   - replace the number 6 with 1\n",
    "   - the above list in decreasing order\n",
    "   - all values greater than 15"
   ]
  },
  {
   "cell_type": "code",
   "execution_count": 4,
   "metadata": {},
   "outputs": [
    {
     "name": "stdout",
     "output_type": "stream",
     "text": [
      "[23, 54, 1, 8, 10078, 3]\n",
      "[10078, 54, 23, 8, 3, 1]\n",
      "[10078, 54, 23]\n"
     ]
    }
   ],
   "source": [
    "luckyNumbers =[23,54,6,8,10078,3]    # this is the original set of luckyNumbers\n",
    "luckyNumbers[2]=1\n",
    "print(luckyNumbers)                  # this is the set of luckyNumbers with a '1' replacing the '6'\n",
    "import copy\n",
    "largeToSmall=copy.copy(luckyNumbers)\n",
    "largeToSmall.sort(reverse=True)\n",
    "print(largeToSmall)                 # this is the list, with the '1' still replacing the '6', in decreasing order\n",
    "higherNumbers=copy.copy(largeToSmall)\n",
    "for i in higherNumbers:\n",
    "    if i<=15:\n",
    "        higherNumbers.remove(i)\n",
    "for i in higherNumbers:\n",
    "    if i<=15:\n",
    "        higherNumbers.remove(i)\n",
    "print (higherNumbers)                # this is the list of numbers above 15\n"
   ]
  },
  {
   "cell_type": "markdown",
   "metadata": {},
   "source": [
    "----------------------------------------------------------------"
   ]
  },
  {
   "cell_type": "markdown",
   "metadata": {},
   "source": [
    "### Problem 3: Basic Operations"
   ]
  },
  {
   "cell_type": "markdown",
   "metadata": {},
   "source": [
    "Let's now take the first step in coding some real data science. Write a statement that loads the `numpy` library into the interpreter and gives it an alias of `np`."
   ]
  },
  {
   "cell_type": "code",
   "execution_count": 5,
   "metadata": {},
   "outputs": [],
   "source": [
    "import numpy as np"
   ]
  },
  {
   "cell_type": "markdown",
   "metadata": {},
   "source": [
    "----------------------------------------------------------------"
   ]
  },
  {
   "cell_type": "markdown",
   "metadata": {},
   "source": [
    "### Problem 4: Numpy"
   ]
  },
  {
   "cell_type": "markdown",
   "metadata": {},
   "source": [
    "Generated a 10x10 `numpy` array with random numbers and slice the array to get the 2nd and 3rd column. Also calculate the average of 6th column using `numpy`."
   ]
  },
  {
   "cell_type": "code",
   "execution_count": 7,
   "metadata": {},
   "outputs": [
    {
     "name": "stdout",
     "output_type": "stream",
     "text": [
      "[[18 85 97  0 95 95 60 85 47 91]\n",
      " [44 13 23 53 75 44 56 92 57  6]\n",
      " [16 11 72  1 76 39 49 69 67 56]\n",
      " [54 88  9 22 27 85  3 54 34 79]\n",
      " [84 68 79 92 43  2 64  8  6 25]\n",
      " [19 85 28 20 89 85 91 66 59 53]\n",
      " [57 15 17 52 35 69 85 37 97 15]\n",
      " [91 42 24 80 44 84 57 97 18 12]\n",
      " [90 31 15  1 33 69 46 23 62 25]\n",
      " [60 10 19 81 67 64  1 94 51 55]]\n"
     ]
    },
    {
     "data": {
      "text/plain": [
       "63.6"
      ]
     },
     "execution_count": 7,
     "metadata": {},
     "output_type": "execute_result"
    }
   ],
   "source": [
    "import numpy as np\n",
    "array1=np.random.randint(0,100, size=[10,10])\n",
    "print(array1)\n",
    "print(array1[:,1:3])\n",
    "col6=array1[:,5:6]\n",
    "np.average(col6)"
   ]
  },
  {
   "cell_type": "markdown",
   "metadata": {},
   "source": [
    "----------------------------------------------------------------"
   ]
  },
  {
   "cell_type": "markdown",
   "metadata": {},
   "source": [
    "##### That's it! We look forward to seeing you in class!"
   ]
  }
 ],
 "metadata": {
  "kernelspec": {
   "display_name": "Python 3",
   "language": "python",
   "name": "python3"
  },
  "language_info": {
   "codemirror_mode": {
    "name": "ipython",
    "version": 3
   },
   "file_extension": ".py",
   "mimetype": "text/x-python",
   "name": "python",
   "nbconvert_exporter": "python",
   "pygments_lexer": "ipython3",
   "version": "3.7.3"
  }
 },
 "nbformat": 4,
 "nbformat_minor": 2
}
