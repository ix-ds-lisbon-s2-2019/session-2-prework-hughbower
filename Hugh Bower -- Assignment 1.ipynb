{
 "cells": [
  {
   "cell_type": "code",
   "execution_count": null,
   "metadata": {},
   "outputs": [],
   "source": [
    "import pandas as pd\n",
    "df = pd.read_csv(\"train.csv\")\n",
    "rows = df.shape[0]\n",
    "columns = df.shape[1]\n",
    "print (\"There are \" + str(rows) + \" rows and \" + str(columns) + \" columns.\")"
   ]
  },
  {
   "cell_type": "code",
   "execution_count": null,
   "metadata": {},
   "outputs": [],
   "source": [
    "survivors = df['Survived'].sum()\n",
    "print (\"There were \" + str(survivors) + \" survivors.\")"
   ]
  },
  {
   "cell_type": "code",
   "execution_count": null,
   "metadata": {},
   "outputs": [],
   "source": [
    "males = df[df.Sex == \"male\"]\n",
    "\n",
    "\n",
    "females = df[df.Sex == \"female\"]\n",
    "\n",
    "\n",
    "import matplotlib.pyplot as plt\n",
    "\n",
    "males2= males.copy()\n",
    "males2.Survived = df.Survived.replace(\n",
    "    {\n",
    "        0: \"Did Not Survive\",\n",
    "        1: \"Survived\"\n",
    "    })\n",
    "\n",
    "females2 = females.copy()\n",
    "females2.Survived = df.Survived.replace(\n",
    "    {\n",
    "        0: \"Did Not Survive\",\n",
    "        1: \"Survived\"\n",
    "    })\n",
    "\n",
    "\n",
    "malegraph = males2.Survived.value_counts().plot.pie()\n",
    "plt.title(\"Male Survivals\")\n",
    "plt.ylabel (' ')"
   ]
  },
  {
   "cell_type": "code",
   "execution_count": null,
   "metadata": {},
   "outputs": [],
   "source": [
    "females2.Survived.value_counts().plot.pie()\n",
    "plt.title(\"Female Survivals\")\n",
    "plt.ylabel (\" \")"
   ]
  },
  {
   "cell_type": "code",
   "execution_count": null,
   "metadata": {},
   "outputs": [],
   "source": [
    "df2 = df.copy()\n",
    "df2.Survived = df2.Survived.replace(\n",
    "    {\n",
    "        0: \"Did Not Survive\",\n",
    "        1: \"Survived\"\n",
    "    })\n",
    "\n",
    "pclass1 = df2[df2.Pclass == 1]\n",
    "pclass2 = df2[df2.Pclass == 2]\n",
    "pclass3 = df2[df2.Pclass == 3]\n",
    "\n",
    "graph1 = pclass1.Survived.value_counts().plot.pie()\n",
    "plt.title (\"Pclass 1 Survivals\")\n",
    "plt.ylabel (\" \")"
   ]
  },
  {
   "cell_type": "code",
   "execution_count": null,
   "metadata": {},
   "outputs": [],
   "source": [
    "graph2 = pclass2.Survived.value_counts().plot.pie()\n",
    "plt.title (\"Pclass 2 Survivals\")\n",
    "plt.ylabel (\" \")"
   ]
  },
  {
   "cell_type": "code",
   "execution_count": null,
   "metadata": {},
   "outputs": [],
   "source": [
    "graph3 = pclass3.Survived.value_counts().plot.pie()\n",
    "plt.title (\"Pclass 3 Survivals\")\n",
    "plt.ylabel (\" \")"
   ]
  },
  {
   "cell_type": "code",
   "execution_count": null,
   "metadata": {},
   "outputs": [],
   "source": [
    "df.Fare.plot.hist(bins = 50, xlim = (0, 100))\n",
    "plt.xlabel (\"Price\")\n",
    "plt.title(\"Frequency of Prices to board the Titanic\")\n",
    "#this chart is zoomed in on the prices ranging from $0-100. \n",
    "#This gives more valuable information than the other histogram below which is an inclusive, \n",
    "#but wide-framed chart.\n"
   ]
  },
  {
   "cell_type": "code",
   "execution_count": null,
   "metadata": {},
   "outputs": [],
   "source": [
    "df.Fare.plot.hist(bins = 50, xlim =(0,600))\n",
    "plt.title (\"Frequency of prices to board the Titanic\")\n",
    "plt.xlabel (\"Prices\")\n",
    "#this is the histogram that includes all prices to board the titanic"
   ]
  },
  {
   "cell_type": "code",
   "execution_count": null,
   "metadata": {
    "scrolled": true
   },
   "outputs": [],
   "source": [
    "cheap = df[df.Fare <10]\n",
    "list(cheap.Name)"
   ]
  },
  {
   "cell_type": "markdown",
   "metadata": {},
   "source": [
    "\n",
    "\n",
    "PART TWO\n",
    "\n"
   ]
  },
  {
   "cell_type": "code",
   "execution_count": null,
   "metadata": {},
   "outputs": [],
   "source": [
    "list1 = []\n",
    "list1 = [None]*len(df)\n",
    "df[\"life_stage\"] = [None]*len(df)\n"
   ]
  },
  {
   "cell_type": "code",
   "execution_count": null,
   "metadata": {},
   "outputs": [],
   "source": [
    "for i in range(len(df)):\n",
    "    if i<7:\n",
    "        list1[i] = \"Early Childhood\"\n",
    "    elif i<12 and i>=7:\n",
    "        list1[i] = \"Childhood\"\n",
    "    elif i<20 and i>=12:\n",
    "        list1[i] = \"Adolescence\"\n",
    "    elif i<36 and i>=20: \n",
    "        list1[i] = \"Early Adulthood\"\n",
    "    elif i<56 and i>=36:\n",
    "        list1[i] = \"Midlife\"\n",
    "    elif  i>=56: \n",
    "        list1[i] = \"Mature Adulthood\"\n",
    "    else:\n",
    "        list1[i] = \"Unknown\"\n",
    "\n",
    "df['life_stage'] = list1\n"
   ]
  },
  {
   "cell_type": "code",
   "execution_count": null,
   "metadata": {},
   "outputs": [],
   "source": [
    "age_list = df['Age'].tolist()\n",
    "age_list\n",
    "r_lst=[]\n",
    "for i in age_list:\n",
    "    if i<=6:\n",
    "        r_lst.append('Early Childhood')\n",
    "    elif i>=7 and i<=12:\n",
    "        r_lst.append('Childhood')\n",
    "    elif i>=12 and i<=19:\n",
    "        r_lst.append('Adolescence')\n",
    "    elif i>=20 and i<=35:\n",
    "        r_lst.append('Early Adulthood')\n",
    "    elif i>=36 and i<=55:\n",
    "        r_lst.append('Midlife')\n",
    "    elif i>=56 and i<=999:\n",
    "        r_lst.append('Mature Adulthood')\n",
    "    else:\n",
    "        r_lst.append('Unknown')\n",
    "df[\"life_stage\"] = r_lst"
   ]
  },
  {
   "cell_type": "code",
   "execution_count": null,
   "metadata": {},
   "outputs": [],
   "source": [
    "question2 = df.groupby(['Sex','life_stage'])[[\"Survived\"]].mean()\n",
    "graph1 = question2.plot.barh()\n",
    "graph1\n",
    "plt.title(\"Male and Female Survival Rates by Life Stage\")\n",
    "plt.ylabel(\"Sex, Life Stage\")\n",
    "plt.xlabel(\"Survival Rate\")"
   ]
  },
  {
   "cell_type": "code",
   "execution_count": null,
   "metadata": {},
   "outputs": [],
   "source": [
    "import numpy as np\n",
    "from random import shuffle\n",
    "simulation = np.random.choice(2,size = 891, p = [.5,.5]) # this simulation is a 50-50 life or death situation\n",
    "df9 = df\n",
    "df9['Simulation Survivors'] = simulation\n",
    "# a \"1\" indicates that the person survied the titanic simulation and a 0 means they did not survive.\n",
    "df9\n",
    "       \n",
    "    \n",
    "    #This is the simulation"
   ]
  },
  {
   "cell_type": "code",
   "execution_count": null,
   "metadata": {},
   "outputs": [],
   "source": [
    "vf = pd.read_csv(\"monster_com-job_sample.csv\")\n",
    "noNaN = vf[vf.salary.notnull()]\n",
    "noNaN\n",
    "\n",
    "#this is the answer to question 1 of part 3"
   ]
  },
  {
   "cell_type": "code",
   "execution_count": null,
   "metadata": {},
   "outputs": [],
   "source": [
    "#question 2 of part 3\n",
    "import numpy as np\n",
    "\n",
    "for n in noNaN.index:\n",
    "    value = noNaN.at[n , 'salary']\n",
    "    for i in value:\n",
    "        if i.isdigit() == True:\n",
    "            break\n",
    "        else:\n",
    "            noNaN.at[n,\"salary\"] = np.NaN\n",
    "noNaN = noNaN[noNaN.salary.notnull()]\n",
    "\n",
    "noNaN\n",
    "\n",
    "\n"
   ]
  },
  {
   "cell_type": "code",
   "execution_count": 197,
   "metadata": {},
   "outputs": [
    {
     "ename": "ValueError",
     "evalue": "invalid literal for int() with base 10: \"'\"",
     "output_type": "error",
     "traceback": [
      "\u001b[0;31m---------------------------------------------------------------------------\u001b[0m",
      "\u001b[0;31mValueError\u001b[0m                                Traceback (most recent call last)",
      "\u001b[0;32m<ipython-input-197-2ef7e9af08d9>\u001b[0m in \u001b[0;36m<module>\u001b[0;34m\u001b[0m\n\u001b[1;32m     11\u001b[0m     \u001b[0mtaco\u001b[0m \u001b[0;34m=\u001b[0m \u001b[0mnoNaN\u001b[0m\u001b[0;34m.\u001b[0m\u001b[0msalary\u001b[0m\u001b[0;34m[\u001b[0m\u001b[0mi\u001b[0m\u001b[0;34m]\u001b[0m\u001b[0;34m.\u001b[0m\u001b[0msplit\u001b[0m\u001b[0;34m(\u001b[0m\u001b[0;34m' '\u001b[0m\u001b[0;34m)\u001b[0m\u001b[0;34m\u001b[0m\u001b[0;34m\u001b[0m\u001b[0m\n\u001b[1;32m     12\u001b[0m     \u001b[0mtaco\u001b[0m \u001b[0;34m=\u001b[0m \u001b[0mlist\u001b[0m\u001b[0;34m(\u001b[0m\u001b[0mfilter\u001b[0m\u001b[0;34m(\u001b[0m\u001b[0;32mNone\u001b[0m\u001b[0;34m,\u001b[0m \u001b[0mtaco\u001b[0m\u001b[0;34m)\u001b[0m\u001b[0;34m)\u001b[0m\u001b[0;34m\u001b[0m\u001b[0;34m\u001b[0m\u001b[0m\n\u001b[0;32m---> 13\u001b[0;31m     \u001b[0mtaco\u001b[0m \u001b[0;34m=\u001b[0m \u001b[0;34m[\u001b[0m\u001b[0mint\u001b[0m\u001b[0;34m(\u001b[0m\u001b[0mj\u001b[0m\u001b[0;34m)\u001b[0m \u001b[0;32mfor\u001b[0m \u001b[0mj\u001b[0m \u001b[0;32min\u001b[0m \u001b[0mtaco\u001b[0m\u001b[0;34m]\u001b[0m\u001b[0;34m\u001b[0m\u001b[0;34m\u001b[0m\u001b[0m\n\u001b[0m\u001b[1;32m     14\u001b[0m     \u001b[0mtaco\u001b[0m \u001b[0;34m=\u001b[0m \u001b[0mnp\u001b[0m\u001b[0;34m.\u001b[0m\u001b[0mmean\u001b[0m\u001b[0;34m(\u001b[0m\u001b[0mtaco\u001b[0m\u001b[0;34m)\u001b[0m\u001b[0;34m\u001b[0m\u001b[0;34m\u001b[0m\u001b[0m\n\u001b[1;32m     15\u001b[0m     \u001b[0mnewest_and_last_list\u001b[0m \u001b[0;34m=\u001b[0m \u001b[0mnp\u001b[0m\u001b[0;34m.\u001b[0m\u001b[0mappend\u001b[0m\u001b[0;34m(\u001b[0m\u001b[0mnewest_and_last_list\u001b[0m\u001b[0;34m,\u001b[0m \u001b[0mtaco\u001b[0m\u001b[0;34m)\u001b[0m\u001b[0;34m\u001b[0m\u001b[0;34m\u001b[0m\u001b[0m\n",
      "\u001b[0;32m<ipython-input-197-2ef7e9af08d9>\u001b[0m in \u001b[0;36m<listcomp>\u001b[0;34m(.0)\u001b[0m\n\u001b[1;32m     11\u001b[0m     \u001b[0mtaco\u001b[0m \u001b[0;34m=\u001b[0m \u001b[0mnoNaN\u001b[0m\u001b[0;34m.\u001b[0m\u001b[0msalary\u001b[0m\u001b[0;34m[\u001b[0m\u001b[0mi\u001b[0m\u001b[0;34m]\u001b[0m\u001b[0;34m.\u001b[0m\u001b[0msplit\u001b[0m\u001b[0;34m(\u001b[0m\u001b[0;34m' '\u001b[0m\u001b[0;34m)\u001b[0m\u001b[0;34m\u001b[0m\u001b[0;34m\u001b[0m\u001b[0m\n\u001b[1;32m     12\u001b[0m     \u001b[0mtaco\u001b[0m \u001b[0;34m=\u001b[0m \u001b[0mlist\u001b[0m\u001b[0;34m(\u001b[0m\u001b[0mfilter\u001b[0m\u001b[0;34m(\u001b[0m\u001b[0;32mNone\u001b[0m\u001b[0;34m,\u001b[0m \u001b[0mtaco\u001b[0m\u001b[0;34m)\u001b[0m\u001b[0;34m)\u001b[0m\u001b[0;34m\u001b[0m\u001b[0;34m\u001b[0m\u001b[0m\n\u001b[0;32m---> 13\u001b[0;31m     \u001b[0mtaco\u001b[0m \u001b[0;34m=\u001b[0m \u001b[0;34m[\u001b[0m\u001b[0mint\u001b[0m\u001b[0;34m(\u001b[0m\u001b[0mj\u001b[0m\u001b[0;34m)\u001b[0m \u001b[0;32mfor\u001b[0m \u001b[0mj\u001b[0m \u001b[0;32min\u001b[0m \u001b[0mtaco\u001b[0m\u001b[0;34m]\u001b[0m\u001b[0;34m\u001b[0m\u001b[0;34m\u001b[0m\u001b[0m\n\u001b[0m\u001b[1;32m     14\u001b[0m     \u001b[0mtaco\u001b[0m \u001b[0;34m=\u001b[0m \u001b[0mnp\u001b[0m\u001b[0;34m.\u001b[0m\u001b[0mmean\u001b[0m\u001b[0;34m(\u001b[0m\u001b[0mtaco\u001b[0m\u001b[0;34m)\u001b[0m\u001b[0;34m\u001b[0m\u001b[0;34m\u001b[0m\u001b[0m\n\u001b[1;32m     15\u001b[0m     \u001b[0mnewest_and_last_list\u001b[0m \u001b[0;34m=\u001b[0m \u001b[0mnp\u001b[0m\u001b[0;34m.\u001b[0m\u001b[0mappend\u001b[0m\u001b[0;34m(\u001b[0m\u001b[0mnewest_and_last_list\u001b[0m\u001b[0;34m,\u001b[0m \u001b[0mtaco\u001b[0m\u001b[0;34m)\u001b[0m\u001b[0;34m\u001b[0m\u001b[0;34m\u001b[0m\u001b[0m\n",
      "\u001b[0;31mValueError\u001b[0m: invalid literal for int() with base 10: \"'\""
     ]
    }
   ],
   "source": [
    "#this is number 3 of part 3 \n",
    "\n",
    "import re\n",
    "noNaN.index = np.arange(len(noNaN.salary.array))\n",
    "\n",
    "for i in noNaN.index:\n",
    "    noNaN.salary[i] = re.sub(\"[^0-9 '-']\", '',noNaN.salary[i])    \n",
    "list(filter(None, noNaN.salary[8].split(' ')))\n",
    "newest_and_last_list = []\n",
    "for i in noNaN.index:\n",
    "    taco = noNaN.salary[i].split(' ')\n",
    "    taco = list(filter(None, taco))\n",
    "    taco = [int(j) for j in taco]\n",
    "    taco = np.mean(taco)\n",
    "    newest_and_last_list = np.append(newest_and_last_list, taco)\n",
    "    \n",
    "noNaN['salary'] = newest_and_last_list\n",
    "noNaN"
   ]
  },
  {
   "cell_type": "code",
   "execution_count": null,
   "metadata": {},
   "outputs": [],
   "source": []
  }
 ],
 "metadata": {
  "kernelspec": {
   "display_name": "Python 3",
   "language": "python",
   "name": "python3"
  },
  "language_info": {
   "codemirror_mode": {
    "name": "ipython",
    "version": 3
   },
   "file_extension": ".py",
   "mimetype": "text/x-python",
   "name": "python",
   "nbconvert_exporter": "python",
   "pygments_lexer": "ipython3",
   "version": "3.7.3"
  }
 },
 "nbformat": 4,
 "nbformat_minor": 2
}
